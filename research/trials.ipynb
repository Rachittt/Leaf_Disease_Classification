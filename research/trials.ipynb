{
 "cells": [
  {
   "cell_type": "code",
   "execution_count": 3,
   "metadata": {},
   "outputs": [],
   "source": [
    "import numpy as np\n",
    "from tensorflow.keras.models import load_model\n",
    "from tensorflow.keras.preprocessing import image\n",
    "import tensorflow as tf\n",
    "import os\n",
    "from PIL import Image"
   ]
  },
  {
   "cell_type": "code",
   "execution_count": 4,
   "metadata": {},
   "outputs": [],
   "source": [
    "import os"
   ]
  },
  {
   "cell_type": "code",
   "execution_count": 5,
   "metadata": {},
   "outputs": [
    {
     "data": {
      "text/plain": [
       "'d:\\\\Project\\\\Leaf_Disease_Classification\\\\research'"
      ]
     },
     "execution_count": 5,
     "metadata": {},
     "output_type": "execute_result"
    }
   ],
   "source": [
    "%pwd"
   ]
  },
  {
   "cell_type": "code",
   "execution_count": 6,
   "metadata": {},
   "outputs": [],
   "source": [
    "os.chdir('../')"
   ]
  },
  {
   "cell_type": "code",
   "execution_count": 7,
   "metadata": {},
   "outputs": [
    {
     "data": {
      "text/plain": [
       "'d:\\\\Project\\\\Leaf_Disease_Classification'"
      ]
     },
     "execution_count": 7,
     "metadata": {},
     "output_type": "execute_result"
    }
   ],
   "source": [
    "%pwd"
   ]
  },
  {
   "cell_type": "code",
   "execution_count": 8,
   "metadata": {},
   "outputs": [],
   "source": [
    "class_names = ['Pepper__bell___Bacterial_spot',\n",
    "                        'Pepper__bell___healthy',\n",
    "                        'Potato___Early_blight',\n",
    "                        'Potato___Late_blight',\n",
    "                        'Potato___healthy',\n",
    "                        'Tomato_Bacterial_spot',\n",
    "                        'Tomato_Early_blight',\n",
    "                        'Tomato_Late_blight',\n",
    "                        'Tomato_Leaf_Mold',\n",
    "                        'Tomato_Septoria_leaf_spot',\n",
    "                        'Tomato_Spider_mites_Two_spotted_spider_mite',\n",
    "                        'Tomato__Target_Spot',\n",
    "                        'Tomato__Tomato_YellowLeaf__Curl_Virus',\n",
    "                        'Tomato__Tomato_mosaic_virus',\n",
    "                        'Tomato_healthy']"
   ]
  },
  {
   "cell_type": "code",
   "execution_count": 9,
   "metadata": {},
   "outputs": [
    {
     "name": "stdout",
     "output_type": "stream",
     "text": [
      "JPEG\n",
      "(256, 256)\n",
      "RGB\n",
      "<class 'numpy.ndarray'>\n",
      "(256, 256, 3)\n",
      "[[[196 192 193]\n",
      "  [192 188 189]\n",
      "  [183 179 180]\n",
      "  ...\n",
      "  [171 165 167]\n",
      "  [167 161 163]\n",
      "  [166 160 162]]\n",
      "\n",
      " [[206 202 203]\n",
      "  [189 185 186]\n",
      "  [172 168 169]\n",
      "  ...\n",
      "  [179 173 175]\n",
      "  [181 175 177]\n",
      "  [184 178 180]]\n",
      "\n",
      " [[177 173 174]\n",
      "  [167 163 164]\n",
      "  [167 163 164]\n",
      "  ...\n",
      "  [173 167 169]\n",
      "  [177 171 173]\n",
      "  [183 177 179]]\n",
      "\n",
      " ...\n",
      "\n",
      " [[127 115 117]\n",
      "  [120 108 110]\n",
      "  [135 123 125]\n",
      "  ...\n",
      "  [124 113 117]\n",
      "  [119 108 112]\n",
      "  [120 109 113]]\n",
      "\n",
      " [[122 110 112]\n",
      "  [127 115 117]\n",
      "  [137 125 127]\n",
      "  ...\n",
      "  [166 155 159]\n",
      "  [128 117 121]\n",
      "  [185 174 178]]\n",
      "\n",
      " [[133 121 123]\n",
      "  [127 115 117]\n",
      "  [127 115 117]\n",
      "  ...\n",
      "  [104  93  97]\n",
      "  [135 124 128]\n",
      "  [134 123 127]]]\n"
     ]
    }
   ],
   "source": [
    "from PIL import Image\n",
    "image = Image.open('D:/Project/Leaf_Disease_Classification/artifacts/data_ingestion/plant-village/PlantVillage/Pepper__bell___Bacterial_spot/0a0dbf1f-1131-496f-b337-169ec6693e6f___NREC_B.Spot 9241.JPG')\n",
    "print(image.format)\n",
    "print(image.size)\n",
    "print(image.mode)\n",
    "image\n",
    "img = np.asarray(image)\n",
    "print(type(img))\n",
    "print(img.shape)\n",
    "print(img)"
   ]
  },
  {
   "cell_type": "code",
   "execution_count": 10,
   "metadata": {},
   "outputs": [
    {
     "name": "stdout",
     "output_type": "stream",
     "text": [
      "1/1 [==============================] - 1s 875ms/step\n"
     ]
    },
    {
     "data": {
      "text/plain": [
       "'Pepper__bell___Bacterial_spot'"
      ]
     },
     "execution_count": 10,
     "metadata": {},
     "output_type": "execute_result"
    }
   ],
   "source": [
    "model = load_model(os.path.join(\"artifacts\",\"training\", \"model.h5\"))\n",
    "image = Image.open('D:/Project/Leaf_Disease_Classification/artifacts/data_ingestion/plant-village/PlantVillage/Pepper__bell___Bacterial_spot/0a0dbf1f-1131-496f-b337-169ec6693e6f___NREC_B.Spot 9241.JPG')\n",
    "image = image.resize((224,224))\n",
    "img = np.asarray(image)\n",
    "# img_array = tf.keras.preprocessing.image.img_to_array(img.numpy())\n",
    "# test_image = image.load_img(imagename, target_size = (224,224))\n",
    "img_array = tf.expand_dims(img, 0)\n",
    "predictions = model.predict(img_array)\n",
    "predicted_class = class_names[np.argmax(predictions[0])]\n",
    "predicted_class"
   ]
  },
  {
   "cell_type": "markdown",
   "metadata": {},
   "source": []
  },
  {
   "cell_type": "code",
   "execution_count": 11,
   "metadata": {},
   "outputs": [],
   "source": [
    "class PredictionPipeline:\n",
    "    def __init__(self,filename):\n",
    "        self.filename =filename\n",
    "\n",
    "\n",
    "    \n",
    "    def predict(self):\n",
    "        # load model\n",
    "        model = load_model(os.path.join(\"artifacts\",\"training\", \"model.h5\"))\n",
    "        imagename = self.filename\n",
    "\n",
    "        image = Image.open(imagename)\n",
    "        image = image.resize((224,224))\n",
    "        img = np.asarray(image)\n",
    "        img_array = tf.expand_dims(img, 0)\n",
    "\n",
    "        class_names = ['Pepper__bell___Bacterial_spot',\n",
    "                        'Pepper__bell___healthy',\n",
    "                        'Potato___Early_blight',\n",
    "                        'Potato___Late_blight',\n",
    "                        'Potato___healthy',\n",
    "                        'Tomato_Bacterial_spot',\n",
    "                        'Tomato_Early_blight',\n",
    "                        'Tomato_Late_blight',\n",
    "                        'Tomato_Leaf_Mold',\n",
    "                        'Tomato_Septoria_leaf_spot',\n",
    "                        'Tomato_Spider_mites_Two_spotted_spider_mite',\n",
    "                        'Tomato__Target_Spot',\n",
    "                        'Tomato__Tomato_YellowLeaf__Curl_Virus',\n",
    "                        'Tomato__Tomato_mosaic_virus',\n",
    "                        'Tomato_healthy']\n",
    "\n",
    "        predictions = model.predict(img_array)\n",
    "        predicted_class = class_names[np.argmax(predictions[0])]\n",
    "        print(predicted_class)\n",
    "        return [{\"image\": predicted_class}]"
   ]
  },
  {
   "cell_type": "code",
   "execution_count": 12,
   "metadata": {},
   "outputs": [
    {
     "name": "stdout",
     "output_type": "stream",
     "text": [
      "1/1 [==============================] - 1s 548ms/step\n",
      "Pepper__bell___Bacterial_spot\n"
     ]
    }
   ],
   "source": [
    "pred = PredictionPipeline('D:/Project/Leaf_Disease_Classification/artifacts/data_ingestion/plant-village/PlantVillage/Pepper__bell___Bacterial_spot/0a0dbf1f-1131-496f-b337-169ec6693e6f___NREC_B.Spot 9241.JPG')\n",
    "result = pred.predict()"
   ]
  },
  {
   "cell_type": "code",
   "execution_count": 13,
   "metadata": {},
   "outputs": [
    {
     "data": {
      "text/plain": [
       "[{'image': 'Pepper__bell___Bacterial_spot'}]"
      ]
     },
     "execution_count": 13,
     "metadata": {},
     "output_type": "execute_result"
    }
   ],
   "source": [
    "result"
   ]
  },
  {
   "cell_type": "code",
   "execution_count": null,
   "metadata": {},
   "outputs": [],
   "source": []
  }
 ],
 "metadata": {
  "kernelspec": {
   "display_name": "chicken",
   "language": "python",
   "name": "python3"
  },
  "language_info": {
   "codemirror_mode": {
    "name": "ipython",
    "version": 3
   },
   "file_extension": ".py",
   "mimetype": "text/x-python",
   "name": "python",
   "nbconvert_exporter": "python",
   "pygments_lexer": "ipython3",
   "version": "3.8.18"
  }
 },
 "nbformat": 4,
 "nbformat_minor": 2
}
